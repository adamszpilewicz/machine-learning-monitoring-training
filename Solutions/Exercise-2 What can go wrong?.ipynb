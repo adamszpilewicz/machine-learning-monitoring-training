{
 "cells": [
  {
   "cell_type": "markdown",
   "metadata": {},
   "source": [
    "# Bank marketing use case | What can go wrong?\n",
    "\n",
    "## 0. Setup"
   ]
  },
  {
   "cell_type": "code",
   "execution_count": null,
   "metadata": {},
   "outputs": [],
   "source": [
    "import sys\n",
    "sys.path.append(\"..\")"
   ]
  },
  {
   "cell_type": "code",
   "execution_count": null,
   "metadata": {},
   "outputs": [],
   "source": [
    "import pandas as pd\n",
    "import numpy as np\n",
    "import seaborn as sns\n",
    "import pickle\n",
    "from utils import *"
   ]
  },
  {
   "cell_type": "code",
   "execution_count": null,
   "metadata": {},
   "outputs": [],
   "source": [
    "import warnings\n",
    "warnings.filterwarnings(\"ignore\")"
   ]
  },
  {
   "cell_type": "code",
   "execution_count": null,
   "metadata": {},
   "outputs": [],
   "source": [
    "jan = pd.read_csv('../data/predict/jan-data.csv')\n",
    "jan_final = data_prep(jan)\n",
    "model = pickle.load(open('../models/model_log.cav','rb'))"
   ]
  },
  {
   "cell_type": "markdown",
   "metadata": {},
   "source": [
    "## 1. Introduction"
   ]
  },
  {
   "cell_type": "markdown",
   "metadata": {},
   "source": [
    "In the previous exercise, we have created a function in order to evaluate the performance of the model. This function is now available in your working directory as `model_performance`. \n",
    "\n",
    "In this exercise, we will investigate the performance on 3 datasets: February, March and April, and we will analyse, if applicable, the cause of potential failures. "
   ]
  },
  {
   "cell_type": "markdown",
   "metadata": {},
   "source": [
    "## 2. Case 1: February\n",
    "\n",
    "The first failure that we can explore is a change of data definition. To do so, we will apply the model on data from February. "
   ]
  },
  {
   "cell_type": "code",
   "execution_count": null,
   "metadata": {},
   "outputs": [],
   "source": [
    "feb = pd.read_csv('../data/predict/feb-data.csv')\n",
    "feb.head()"
   ]
  },
  {
   "cell_type": "code",
   "execution_count": null,
   "metadata": {},
   "outputs": [],
   "source": [
    "feb_final = data_prep(feb)"
   ]
  },
  {
   "cell_type": "code",
   "execution_count": null,
   "metadata": {},
   "outputs": [],
   "source": [
    "feb_final"
   ]
  },
  {
   "cell_type": "code",
   "execution_count": null,
   "metadata": {},
   "outputs": [],
   "source": [
    "predictions = model.predict(feb_final)\n",
    "feb_final['id'] = feb['id']\n",
    "feb_final['prediction']=pd.Series(predictions)\n",
    "model_performance(feb_final,'feb')"
   ]
  },
  {
   "cell_type": "markdown",
   "metadata": {},
   "source": [
    "As you can see, the precision of the model was impacted, meaning that the maximum profit was impacted. \n",
    "\n",
    "We will now investigate the causes of that failure. \n",
    "\n",
    "**Exercise:** describe and compare the data from the `jan` dataset with the one of `feb`. "
   ]
  },
  {
   "cell_type": "code",
   "execution_count": null,
   "metadata": {},
   "outputs": [],
   "source": [
    "#Solution\n",
    "jan.describe()"
   ]
  },
  {
   "cell_type": "code",
   "execution_count": null,
   "metadata": {},
   "outputs": [],
   "source": [
    "feb.describe()"
   ]
  },
  {
   "cell_type": "code",
   "execution_count": null,
   "metadata": {},
   "outputs": [],
   "source": [
    "sns.boxplot(data=(jan['euribor3m'],feb['euribor3m']))"
   ]
  },
  {
   "cell_type": "markdown",
   "metadata": {},
   "source": [
    "Congratulations! You've just discovered a first type of failure. \n",
    "\n",
    "It seems that the order of magnitude of the `euribor3m` feature has been divided by 100, resulting in a lack of precision. "
   ]
  },
  {
   "cell_type": "markdown",
   "metadata": {},
   "source": [
    "## Case 2: March\n",
    "\n"
   ]
  },
  {
   "cell_type": "code",
   "execution_count": null,
   "metadata": {},
   "outputs": [],
   "source": [
    "mar = pd.read_csv('../data/predict/mar-data.csv')\n",
    "mar.head()"
   ]
  },
  {
   "cell_type": "code",
   "execution_count": null,
   "metadata": {},
   "outputs": [],
   "source": [
    "mar_final = data_prep(mar)"
   ]
  },
  {
   "cell_type": "code",
   "execution_count": null,
   "metadata": {},
   "outputs": [],
   "source": [
    "predictions = model.predict(mar_final)\n",
    "mar_final['id'] = mar['id']\n",
    "mar_final['prediction']=pd.Series(predictions)\n",
    "model_performance(mar_final,'mar')"
   ]
  },
  {
   "cell_type": "markdown",
   "metadata": {},
   "source": [
    "This month, the model was not able to produce results. Why is that the case?\n",
    "\n",
    "**Exercise:** Compare the schema of March with the one of January"
   ]
  },
  {
   "cell_type": "code",
   "execution_count": null,
   "metadata": {},
   "outputs": [],
   "source": [
    "#Solution\n",
    "\n",
    "set_jan = set(jan.dtypes.to_dict().keys())\n",
    "set_mar = set(mar.dtypes.to_dict().keys())\n",
    "\n",
    "diff = set_jan - set_mar\n",
    "print(diff)"
   ]
  },
  {
   "cell_type": "markdown",
   "metadata": {},
   "source": [
    "This is another common failure in a model: the data is no longer available, because of a change in its name, its format, or simply because it was removed from the database."
   ]
  },
  {
   "cell_type": "markdown",
   "metadata": {},
   "source": [
    "## Case 3: April"
   ]
  },
  {
   "cell_type": "code",
   "execution_count": null,
   "metadata": {},
   "outputs": [],
   "source": [
    "apr = pd.read_csv('../data/predict/apr-data.csv')\n",
    "apr.head()"
   ]
  },
  {
   "cell_type": "code",
   "execution_count": null,
   "metadata": {},
   "outputs": [],
   "source": [
    "apr_final = data_prep(apr)"
   ]
  },
  {
   "cell_type": "code",
   "execution_count": null,
   "metadata": {},
   "outputs": [],
   "source": [
    "predictions = model.predict(apr_final)\n",
    "apr_final['id'] = apr['id']\n",
    "apr_final['prediction']=pd.Series(predictions)\n",
    "model_performance(apr_final,'apr')"
   ]
  },
  {
   "cell_type": "markdown",
   "metadata": {},
   "source": [
    "**Exercise:** Compare the distribution of the column `poutcome` in jan, feb and apr. Is there something different?"
   ]
  },
  {
   "cell_type": "code",
   "execution_count": null,
   "metadata": {},
   "outputs": [],
   "source": [
    "#Solution\n",
    "apr_poutcome = apr[apr['poutcome'] != 'nonexistent']\n",
    "jan_poutcome = jan[jan['poutcome'] != 'nonexistent']\n",
    "feb_poutcome = feb[feb['poutcome'] != 'nonexistent']"
   ]
  },
  {
   "cell_type": "code",
   "execution_count": null,
   "metadata": {},
   "outputs": [],
   "source": [
    "import matplotlib.pyplot as plt\n",
    "\n",
    "fig = plt.figure(figsize=(18, 6), dpi=80)\n",
    "\n",
    "ax1 = plt.subplot2grid(shape=(2,6), loc=(0,0), colspan=2)\n",
    "apr_poutcome['poutcome'].hist()\n",
    "plt.title(\"April\")\n",
    "ax2 = plt.subplot2grid((2,6), (0,2), colspan=2)\n",
    "jan_poutcome['poutcome'].hist()\n",
    "plt.title(\"January\")\n",
    "ax3 = plt.subplot2grid((2,6), (0,4), colspan=2)\n",
    "feb_poutcome['poutcome'].hist()\n",
    "plt.title(\"February\")\n",
    "plt.show()\n"
   ]
  },
  {
   "cell_type": "markdown",
   "metadata": {},
   "source": [
    "As you can see, the data is skewed and the success category is underrepresented in the `poutcome` column. The weight of the poutome_success is too important compared to other variables. However in April, less individuals with this attribute were in the dataset, we lost a key feature of the model. "
   ]
  },
  {
   "cell_type": "code",
   "execution_count": null,
   "metadata": {},
   "outputs": [],
   "source": [
    "print(jan_final['poutcome_success'].skew())\n",
    "print(feb_final['poutcome_success'].skew())\n",
    "print(apr_final['poutcome_success'].skew())"
   ]
  },
  {
   "cell_type": "markdown",
   "metadata": {},
   "source": [
    "### Well done!\n",
    "\n",
    "You have discover some of the many so-called `datastrophes` that may happen in your data pipelines. Now, let's see how we could prevent them. \n"
   ]
  }
 ],
 "metadata": {
  "kernelspec": {
   "display_name": "Python 3",
   "language": "python",
   "name": "python3"
  },
  "language_info": {
   "codemirror_mode": {
    "name": "ipython",
    "version": 3
   },
   "file_extension": ".py",
   "mimetype": "text/x-python",
   "name": "python",
   "nbconvert_exporter": "python",
   "pygments_lexer": "ipython3",
   "version": "3.7.6"
  }
 },
 "nbformat": 4,
 "nbformat_minor": 4
}
